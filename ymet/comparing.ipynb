{
 "cells": [
  {
   "cell_type": "code",
   "execution_count": 1,
   "metadata": {},
   "outputs": [],
   "source": [
    "import pandas as pd\n",
    "import numpy as np\n",
    "import matplotlib.pyplot as plt"
   ]
  },
  {
   "cell_type": "code",
   "execution_count": 2,
   "metadata": {},
   "outputs": [],
   "source": [
    "def report(y,s,a,row=0):\n",
    "    print('=== y ===',len(y))\n",
    "    print(y.iloc[row])\n",
    "    print('=== s ===',len(s))\n",
    "    print(s.iloc[row])\n",
    "    print('=== a ===',len(a))\n",
    "    print(a.iloc[row])"
   ]
  },
  {
   "cell_type": "code",
   "execution_count": 3,
   "metadata": {},
   "outputs": [],
   "source": [
    "yerr = pd.read_csv(\"y_errors.csv\")\n",
    "spam = pd.read_csv(\"spam.csv\",encoding='utf-8')\n",
    "aster = pd.read_csv(\"aster.csv\",encoding='utf-8')"
   ]
  },
  {
   "cell_type": "code",
   "execution_count": 4,
   "metadata": {},
   "outputs": [],
   "source": [
    "# regex tester https://regex101.com\n",
    "spam['datetime']  = spam[ 'datetime'].replace({'\\.': '-'}, regex=True)\n",
    "aster['datetime'] = aster['datetime'].replace({'\\.': '-'}, regex=True)"
   ]
  },
  {
   "cell_type": "code",
   "execution_count": 5,
   "metadata": {},
   "outputs": [],
   "source": [
    "# исправляем формат даты y\n",
    "#yerr['Y']  = spam[ 'datetime'].replace({'\\.': '-'}, regex=True)\n",
    "def convert_date(current_string):\n",
    "    year = current_string[:4]\n",
    "    month = current_string[-len(current_string)+5:]\n",
    "    month = month[:2]\n",
    "    day = current_string[-len(current_string)+8:]\n",
    "    day = day[:2]\n",
    "    return day+'-'+month+'-'+year+current_string[-len(current_string)+10:]\n",
    "yerr['error_datetime']=yerr['error_datetime'].apply(convert_date)"
   ]
  },
  {
   "cell_type": "code",
   "execution_count": 9,
   "metadata": {},
   "outputs": [
    {
     "name": "stdout",
     "output_type": "stream",
     "text": [
      "=== y === 98294\n",
      "error_timestamp               1599113056\n",
      "error_datetime       03-09-2020 09:04:16\n",
      "error_id            13534706988730770394\n",
      "android_id              088d417307412c5e\n",
      "app_version_name                       2\n",
      "application_id                   3537259\n",
      "os_version                         8.0.0\n",
      "os_name                          android\n",
      "connection_type                     wifi\n",
      "operator_name                        MTS\n",
      "Name: 0, dtype: object\n",
      "=== s === 12214\n",
      "datetime    08-09-2020 0:34:52\n",
      "Name: 0, dtype: object\n",
      "=== a === 10\n",
      "datetime    08-09-2020 12:01:55\n",
      "Name: 0, dtype: object\n"
     ]
    }
   ],
   "source": [
    "report(yerr,spam,aster)"
   ]
  },
  {
   "cell_type": "code",
   "execution_count": 8,
   "metadata": {},
   "outputs": [],
   "source": [
    "# отбор ошибок я.метрики по дню\n",
    "y = pd.DataFrame()\n",
    "y['day'] = yerr['error_datetime'].str.split().str[0]\n",
    "y['error_datetime'] = yerr['error_datetime']\n",
    "y = y[y['day']=='08-09-2020']\n",
    "del y['day']\n",
    "y.columns=(['datetime'])"
   ]
  },
  {
   "cell_type": "code",
   "execution_count": 10,
   "metadata": {},
   "outputs": [],
   "source": [
    "# добавление колонки счетчика\n",
    "y['cnt_y']=np.ones(len(y))\n",
    "spam['cnt_s']=np.ones(len(spam))\n",
    "aster['cnt_a']=np.ones(len(aster))"
   ]
  },
  {
   "cell_type": "code",
   "execution_count": 11,
   "metadata": {},
   "outputs": [],
   "source": [
    "# убираем секунды из даты\n",
    "y[    'datetime'] = y[    'datetime'].replace({':\\d\\d$': ':00'}, regex=True)\n",
    "spam[ 'datetime'] = spam[ 'datetime'].replace({':\\d\\d$': ':00'}, regex=True)\n",
    "aster['datetime'] = aster['datetime'].replace({':\\d\\d$': ':00'}, regex=True)"
   ]
  },
  {
   "cell_type": "code",
   "execution_count": 12,
   "metadata": {},
   "outputs": [],
   "source": [
    "# подменяем 0 на 00\n",
    "y[    'datetime'] = y[    'datetime'].replace({' [0-9]:': ' 00:'}, regex=True)\n",
    "spam[ 'datetime'] = spam[ 'datetime'].replace({' [0-9]:': ' 00:'}, regex=True)\n",
    "aster['datetime'] = aster['datetime'].replace({' [0-9]:': ' 00:'}, regex=True)"
   ]
  },
  {
   "cell_type": "code",
   "execution_count": 13,
   "metadata": {},
   "outputs": [],
   "source": [
    "# группировка\n",
    "y = y.groupby('datetime')['datetime'].count()\n",
    "s = spam.groupby('datetime')['datetime'].count()\n",
    "a = aster.groupby('datetime')['datetime'].count()"
   ]
  },
  {
   "cell_type": "code",
   "execution_count": 14,
   "metadata": {},
   "outputs": [
    {
     "data": {
      "text/plain": [
       "(178, 661, 7)"
      ]
     },
     "execution_count": 14,
     "metadata": {},
     "output_type": "execute_result"
    }
   ],
   "source": [
    "len(y),len(s),len(a)"
   ]
  },
  {
   "cell_type": "code",
   "execution_count": 15,
   "metadata": {},
   "outputs": [],
   "source": [
    "# объединим в один дф\n",
    "df = pd.DataFrame()\n",
    "df = pd.concat([df,y], axis=1)\n",
    "df = pd.concat([df,s], axis=1)\n",
    "df = pd.concat([df,a], axis=1)\n",
    "df.columns = (['y','s','a'])\n",
    "# вернем колонку времени\n",
    "df['datetime'] = df.index\n",
    "# уберем NaN\n",
    "df = df.fillna(0)"
   ]
  },
  {
   "cell_type": "code",
   "execution_count": 16,
   "metadata": {},
   "outputs": [],
   "source": [
    "# Перевернем и умножим a для наглядности\n",
    "df.a=df.a*-30"
   ]
  },
  {
   "cell_type": "code",
   "execution_count": 17,
   "metadata": {},
   "outputs": [
    {
     "data": {
      "text/plain": [
       "781"
      ]
     },
     "execution_count": 17,
     "metadata": {},
     "output_type": "execute_result"
    }
   ],
   "source": [
    "len(df)"
   ]
  },
  {
   "cell_type": "code",
   "execution_count": 20,
   "metadata": {},
   "outputs": [],
   "source": [
    "# упорядочим по дате\n",
    "df = df.sort_values('datetime')"
   ]
  },
  {
   "cell_type": "code",
   "execution_count": 22,
   "metadata": {},
   "outputs": [],
   "source": [
    "df.columns = (['yandex','spam','aster','datetime'])"
   ]
  },
  {
   "cell_type": "code",
   "execution_count": 23,
   "metadata": {},
   "outputs": [
    {
     "data": {
      "text/plain": [
       "<matplotlib.axes._subplots.AxesSubplot at 0x7f9f5b721ad0>"
      ]
     },
     "execution_count": 23,
     "metadata": {},
     "output_type": "execute_result"
    },
    {
     "data": {
      "image/png": "[encoded data removed]",
      "text/plain": [
       "<Figure size 1440x360 with 1 Axes>"
      ]
     },
     "metadata": {
      "needs_background": "light"
     },
     "output_type": "display_data"
    }
   ],
   "source": [
    "df.plot(\n",
    "    x='datetime',\n",
    "    y=['yandex','spam','aster'],\n",
    "    figsize=(20,5),\n",
    "    grid = True\n",
    ")"
   ]
  },
  {
   "cell_type": "code",
   "execution_count": 24,
   "metadata": {},
   "outputs": [
    {
     "name": "stdout",
     "output_type": "stream",
     "text": [
      "yandex: 178\n",
      "spam: 661\n",
      "aster: 7\n"
     ]
    }
   ],
   "source": [
    "print('yandex:',len(df[df.yandex>0]))\n",
    "print('spam:',len(df[df.spam>0]))\n",
    "print('aster:',len(df[df.aster<0]))"
   ]
  }
 ],
 "metadata": {
  "kernelspec": {
   "display_name": "Python 3",
   "language": "python",
   "name": "python3"
  },
  "language_info": {
   "codemirror_mode": {
    "name": "ipython",
    "version": 3
   },
   "file_extension": ".py",
   "mimetype": "text/x-python",
   "name": "python",
   "nbconvert_exporter": "python",
   "pygments_lexer": "ipython3",
   "version": "3.7.6"
  }
 },
 "nbformat": 4,
 "nbformat_minor": 4
}
